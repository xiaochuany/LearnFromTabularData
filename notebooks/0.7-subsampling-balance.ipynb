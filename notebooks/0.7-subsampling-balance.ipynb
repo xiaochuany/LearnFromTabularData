{
 "cells": [
  {
   "cell_type": "code",
   "execution_count": 1,
   "metadata": {},
   "outputs": [],
   "source": [
    "import os\n",
    "import numpy as np\n",
    "import pandas as pd\n",
    "from sklearn.preprocessing import StandardScaler, OneHotEncoder\n",
    "from sklearn.compose import make_column_transformer, make_column_selector\n",
    "from sklearn.pipeline import make_pipeline\n",
    "from sklearn.model_selection import train_test_split, RandomizedSearchCV\n",
    "from sklearn.ensemble import HistGradientBoostingClassifier, RandomForestClassifier\n",
    "# from sklearn.linear_model import LogisticRegression\n",
    "# from sklearn.tree import DecisionTreeClassifier\n",
    "# from sklearn.naive_bayes import GaussianNB\n",
    "# from sklearn.svm import SVC\n",
    "from sklearn.metrics import classification_report\n",
    "# from sklearn.base import BaseEstimator, TransformerMixin\n",
    "# from sklearn.experimental import enable_iterative_imputer\n",
    "# from sklearn.impute import IterativeImputer, SimpleImputer\n",
    "from scipy.stats import loguniform, uniform\n",
    "from pprint import pprint\n",
    "# from xgboost import XGBClassifier\n",
    "# from lightgbm import LGBMClassifier"
   ]
  },
  {
   "cell_type": "markdown",
   "metadata": {},
   "source": [
    "## subsampling: construct balanced data\n"
   ]
  },
  {
   "cell_type": "code",
   "execution_count": 22,
   "metadata": {},
   "outputs": [
    {
     "name": "stdout",
     "output_type": "stream",
     "text": [
      "              precision    recall  f1-score   support\n",
      "\n",
      "           0       0.70      0.69      0.69      5076\n",
      "           1       0.68      0.70      0.69      4854\n",
      "\n",
      "    accuracy                           0.69      9930\n",
      "   macro avg       0.69      0.69      0.69      9930\n",
      "weighted avg       0.69      0.69      0.69      9930\n",
      "\n"
     ]
    }
   ],
   "source": [
    "PATH = '../data/raw'\n",
    "df = pd.read_csv(os.path.join(PATH,'application_train.csv'))\n",
    "\n",
    "mask = (df['TARGET']==1)\n",
    "m = mask.sum()\n",
    "df_balance = pd.concat([df[~mask].sample(m,random_state=1123),df[mask]], axis=0)\n",
    "\n",
    "y = df_balance.pop(\"TARGET\")\n",
    "X = df_balance\n",
    "\n",
    "X_tr, X_dev, y_tr, y_dev = train_test_split(X,y,test_size=0.2, random_state=1123)\n",
    "\n",
    "ohe = OneHotEncoder(drop='if_binary')\n",
    "scaler = StandardScaler()\n",
    "model = HistGradientBoostingClassifier()\n",
    "\n",
    "ct = make_column_transformer(\n",
    "    (ohe, make_column_selector(dtype_exclude=np.number)),\n",
    "    (scaler, make_column_selector(dtype_include=np.number)),\n",
    "    remainder='drop',\n",
    ")\n",
    "\n",
    "pipe = make_pipeline(\n",
    "    ct,model\n",
    ")\n",
    "\n",
    "pipe.fit(X_tr,y_tr)\n",
    "y_pred = pipe.predict(X_dev)\n",
    "print(classification_report(y_pred,y_dev))"
   ]
  }
 ],
 "metadata": {
  "kernelspec": {
   "display_name": "Python 3 (ipykernel)",
   "language": "python",
   "name": "python3"
  },
  "language_info": {
   "codemirror_mode": {
    "name": "ipython",
    "version": 3
   },
   "file_extension": ".py",
   "mimetype": "text/x-python",
   "name": "python",
   "nbconvert_exporter": "python",
   "pygments_lexer": "ipython3",
   "version": "3.11.5"
  }
 },
 "nbformat": 4,
 "nbformat_minor": 4
}
