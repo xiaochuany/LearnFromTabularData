{
 "cells": [
  {
   "cell_type": "code",
   "execution_count": null,
   "metadata": {},
   "outputs": [],
   "source": [
    "import os\n",
    "import numpy as np\n",
    "import pandas as pd\n",
    "from sklearn.preprocessing import StandardScaler, OneHotEncoder\n",
    "from sklearn.compose import make_column_transformer, make_column_selector\n",
    "from sklearn.pipeline import make_pipeline\n",
    "from sklearn.model_selection import train_test_split, RandomizedSearchCV\n",
    "from sklearn.ensemble import HistGradientBoostingClassifier\n",
    "from sklearn.metrics import classification_report\n",
    "# from sklearn.base import BaseEstimator, TransformerMixin\n",
    "# from sklearn.experimental import enable_iterative_imputer\n",
    "# from sklearn.impute import IterativeImputer, SimpleImputer\n",
    "from scipy.stats import loguniform, uniform"
   ]
  },
  {
   "cell_type": "markdown",
   "metadata": {},
   "source": [
    "## a bit of feature engineering\n",
    "- drop name\n",
    "- create GroupSize from PassengerID\n",
    "- create Deck and Side from Cabin\n",
    "- one hot endoding categorical columns\n",
    "- scale numerical columns\n",
    "- HistGB (which accepts nan natively)"
   ]
  },
  {
   "cell_type": "code",
   "execution_count": null,
   "metadata": {},
   "outputs": [],
   "source": [
    "PATH = '../data/raw'\n",
    "df = pd.read_csv(os.path.join(PATH,'train.csv'))\n",
    "df.head(3)"
   ]
  },
  {
   "cell_type": "code",
   "execution_count": null,
   "metadata": {},
   "outputs": [],
   "source": [
    "def parse(df):\n",
    "    return (\n",
    "        df.assign(\n",
    "            GroupSize = df['PassengerId'].str.split('_', expand=True)[1].astype(int),\n",
    "            Deck = df['Cabin'].str.split('/',expand=True)[0],\n",
    "            Side = df['Cabin'].str.split('/',expand=True)[2]\n",
    "            )\n",
    "        .drop(['Name','PassengerId','Cabin'],axis=1)\n",
    "        )\n",
    "\n",
    "parse(df).nunique()"
   ]
  },
  {
   "cell_type": "code",
   "execution_count": null,
   "metadata": {},
   "outputs": [],
   "source": [
    "df = pd.read_csv(os.path.join(PATH,'train.csv'))\n",
    "df = parse(df)\n",
    "\n",
    "y = df.pop('Transported')\n",
    "X = df\n",
    "\n",
    "ohe = OneHotEncoder()\n",
    "scaler = StandardScaler()\n",
    "hgb = HistGradientBoostingClassifier()\n",
    "\n",
    "\n",
    "ct = make_column_transformer(\n",
    "    (ohe, ['HomePlanet','CryoSleep', 'Destination', 'VIP', 'GroupSize', 'Deck','Side']),\n",
    "    (scaler, make_column_selector(dtype_include=np.number)),\n",
    "    remainder='drop',\n",
    ")\n",
    "\n",
    "pipe = make_pipeline(\n",
    "    ct, hgb\n",
    ")\n",
    "\n",
    "param_distributions = {\n",
    "    'histgradientboostingclassifier__learning_rate': loguniform(0.01,0.1),\n",
    "    'histgradientboostingclassifier__l2_regularization': loguniform(0.01,10)\n",
    "}\n",
    "\n",
    "search = RandomizedSearchCV(\n",
    "    pipe,\n",
    "    param_distributions=param_distributions, \n",
    "    n_jobs=-1,\n",
    "    n_iter=20,\n",
    "    verbose=True,\n",
    "    random_state=1123\n",
    ")\n",
    "\n",
    "X_tr, X_dev, y_tr, y_dev = train_test_split(X,y,test_size=0.2, random_state=1123)\n",
    "\n",
    "search.fit(X_tr,y_tr)\n",
    "y_pred = search.predict(X_dev)\n",
    "print(classification_report(y_pred,y_dev))\n",
    "print(search.best_params_)"
   ]
  },
  {
   "cell_type": "code",
   "execution_count": null,
   "metadata": {},
   "outputs": [],
   "source": [
    "df_te = pd.read_csv(os.path.join(PATH,'test.csv'))\n",
    "df_parsed = parse(df_te)\n",
    "y_pred = search.predict(df_parsed)\n",
    "df_te['Transported'] = y_pred\n",
    "df_sub = df_te[['PassengerId','Transported']]\n",
    "df_sub.to_csv(os.path.join(PATH,'0.1-xy-submission.csv'), index=False)\n"
   ]
  },
  {
   "cell_type": "code",
   "execution_count": null,
   "metadata": {},
   "outputs": [],
   "source": [
    "# !kaggle competitions submit -c spaceship-titanic -f ../data/raw/0.1-xy-submission.csv -m \"HistGB-1\"\n",
    "# !kaggle competitions submissions -c spaceship-titanic"
   ]
  },
  {
   "cell_type": "code",
   "execution_count": null,
   "metadata": {},
   "outputs": [],
   "source": []
  },
  {
   "cell_type": "code",
   "execution_count": null,
   "metadata": {},
   "outputs": [],
   "source": []
  }
 ],
 "metadata": {
  "kernelspec": {
   "display_name": "ml",
   "language": "python",
   "name": "python3"
  },
  "language_info": {
   "codemirror_mode": {
    "name": "ipython",
    "version": 3
   },
   "file_extension": ".py",
   "mimetype": "text/x-python",
   "name": "python",
   "nbconvert_exporter": "python",
   "pygments_lexer": "ipython3",
   "version": "3.11.4"
  },
  "orig_nbformat": 4
 },
 "nbformat": 4,
 "nbformat_minor": 2
}
